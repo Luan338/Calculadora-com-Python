{
 "cells": [
  {
   "cell_type": "markdown",
   "id": "88140da7-5d2e-4577-91aa-8b9e9ff9f61b",
   "metadata": {},
   "source": [
    "# Exercício Módulo 01: CALCULADORA"
   ]
  },
  {
   "cell_type": "code",
   "execution_count": 2,
   "id": "1a5849bb-249a-41cf-afd9-3cc013d0cd9d",
   "metadata": {},
   "outputs": [
    {
     "name": "stdout",
     "output_type": "stream",
     "text": [
      "\n",
      "Ambos os inputs são números. Escolha a operação:\n",
      "+ | Somar\n",
      "- | Subtrair\n",
      "* | Multiplicar\n",
      "/ | Dividir\n",
      "Soma de inteiros: 30\n"
     ]
    }
   ],
   "source": [
    "# Recebendo os dados de input\n",
    "input_1 = input(\"1º Informação: \")\n",
    "input_2 = input(\"2º Informação: \")\n",
    "\n",
    "# Verificando se input_1 e input_2 são números ou textos e determinando o tipo numérico (int ou float)\n",
    "is_numero_1 = False\n",
    "is_numero_2 = False\n",
    "num_1 = None\n",
    "num_2 = None\n",
    "\n",
    "# Verificando input_1\n",
    "try:\n",
    "    num_1_float = float(input_1)\n",
    "    is_numero_1 = True\n",
    "    if num_1_float == int(num_1_float):\n",
    "        num_1 = int(num_1_float)\n",
    "    else:\n",
    "        num_1 = num_1_float\n",
    "except ValueError:\n",
    "    is_numero_1 = False\n",
    "\n",
    "# Verificando input_2\n",
    "try:\n",
    "    num_2_float = float(input_2)\n",
    "    is_numero_2 = True\n",
    "    if num_2_float == int(num_2_float):\n",
    "        num_2 = int(num_2_float)\n",
    "    else:\n",
    "        num_2 = num_2_float\n",
    "except ValueError:\n",
    "    is_numero_2 = False\n",
    "\n",
    "# Tratando os dados com base nos tipos identificados\n",
    "if is_numero_1 and is_numero_2:\n",
    "    print(\"\\nAmbos os inputs são números. Escolha a operação:\")\n",
    "    print(\"+ | Somar\")\n",
    "    print(\"- | Subtrair\")\n",
    "    print(\"* | Multiplicar\")\n",
    "    print(\"/ | Dividir\")\n",
    "\n",
    "    operacao_escolhida = input(\"Digite a operação desejada (+|-|*|/): \")\n",
    "\n",
    "    if operacao_escolhida == '+':\n",
    "        resultado = num_1 + num_2\n",
    "        operacao_nome = \"Soma\"\n",
    "    elif operacao_escolhida == '-':\n",
    "        resultado = num_1 - num_2\n",
    "        operacao_nome = \"Subtração\"\n",
    "    elif operacao_escolhida == '*':\n",
    "        resultado = num_1 * num_2\n",
    "        operacao_nome = \"Multiplicação\"\n",
    "    elif operacao_escolhida == '/':\n",
    "        if num_2 == 0:\n",
    "            resultado = \"Divisão por zero não permitida\"\n",
    "            operacao_nome = \"Divisão\"\n",
    "        else:\n",
    "            resultado = num_1 / num_2\n",
    "            operacao_nome = \"Divisão\"\n",
    "    else:\n",
    "        resultado = \"Opção inválida\"\n",
    "        operacao_nome = \"Operação\"\n",
    "        \n",
    " # Para casos de erro como divisão por zero ou opção inválida\n",
    "    if isinstance(resultado, str):\n",
    "        print(f\"{operacao_nome}: {resultado}\")\n",
    "    elif isinstance(num_1, int) and isinstance(num_2, int) and operacao_nome in [\"Soma\", \"Subtração\", \"Multiplicação\"]:\n",
    "        print(f\"{operacao_nome} de inteiros: {int(resultado)}\") \n",
    "    else:\n",
    "        print(f\"{operacao_nome}: {resultado}\") \n",
    "elif not is_numero_1 and not is_numero_2:\n",
    "    # Se ambos forem textos, concatenar\n",
    "    resultado = input_1 + input_2\n",
    "    print(\"Concatenação dos textos:\", resultado)\n",
    "else:\n",
    "    resultado = input_1 + input_2\n",
    "    print(\"Concatenação (tipos mistos ou texto):\", resultado)"
   ]
  }
 ],
 "metadata": {
  "kernelspec": {
   "display_name": "Python 3",
   "language": "python",
   "name": "python3"
  },
  "language_info": {
   "codemirror_mode": {
    "name": "ipython",
    "version": 3
   },
   "file_extension": ".py",
   "mimetype": "text/x-python",
   "name": "python",
   "nbconvert_exporter": "python",
   "pygments_lexer": "ipython3",
   "version": "3.12.9"
  }
 },
 "nbformat": 4,
 "nbformat_minor": 5
}
